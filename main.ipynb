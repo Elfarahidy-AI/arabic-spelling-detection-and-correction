{
 "cells": [
  {
   "cell_type": "code",
   "execution_count": 1,
   "metadata": {},
   "outputs": [],
   "source": [
    "from modules.spelling import *\n",
    "from modules.bigram import Bigram\n",
    "from db_drivers.bigram_driver import BigramDB\n",
    "from modules.unigram import Unigram"
   ]
  },
  {
   "cell_type": "markdown",
   "metadata": {},
   "source": [
    "### intializing the objects"
   ]
  },
  {
   "cell_type": "code",
   "execution_count": 2,
   "metadata": {},
   "outputs": [],
   "source": [
    "bigram = Bigram()\n",
    "trie = load_trie_from_pickle()\n",
    "# bigramdb = BigramDB(\"models/bigram.db\")\n",
    "unigram = load_unigram_from_pickle()\n"
   ]
  },
  {
   "cell_type": "markdown",
   "metadata": {},
   "source": [
    "### utility functions to correct the input text"
   ]
  },
  {
   "cell_type": "code",
   "execution_count": 3,
   "metadata": {},
   "outputs": [],
   "source": [
    "# check the word sequence in the bigram model\n",
    "# def check_in_bigram(prev_word ,potenial_words):\n",
    "#     freqs = [bigramdb.get_frequency(prev_word, word) for word in potenial_words]\n",
    "#     if max(freqs) == 0:\n",
    "#         return \"\"\n",
    "#     else:\n",
    "#         return potenial_words[freqs.index(max(freqs))]\n",
    "\n",
    "# check the word sequence in the unigram model\n",
    "def check_in_unigram(potenial_words):\n",
    "    return unigram.predict(potenial_words)\n",
    "\n",
    "\n",
    "# def go_through_text(text):\n",
    "#     words = text.split()\n",
    "#     for i in range(1, len(words)):\n",
    "#         potenial_words = trie.get_nearest_words(words[i], 1)\n",
    "       \n",
    "#         potenial_words = [potenial_words[j][0] for j in range(len(potenial_words))]\n",
    "       \n",
    "#         freqs = [bigramdb.get_frequency(words[i-1], word) for word in potenial_words]\n",
    "       \n",
    "       \n",
    "#         if max(freqs) != 0:\n",
    "#             words[i] = potenial_words[freqs.index(max(freqs))]\n",
    "#         else:\n",
    "#             words[i] = unigram.predict(potenial_words)\n",
    "            \n",
    "#     return \" \".join(words)"
   ]
  },
  {
   "cell_type": "markdown",
   "metadata": {},
   "source": [
    "### correcting the spelling of the word using trie tree and bigram with backoff to unigram"
   ]
  },
  {
   "cell_type": "code",
   "execution_count": 11,
   "metadata": {},
   "outputs": [
    {
     "name": "stdout",
     "output_type": "stream",
     "text": [
      "لعب الولدين كرة القدم في الشارع\n"
     ]
    }
   ],
   "source": [
    "\"\"\"\n",
    " I noticed that when using unigram model alone it may give better accuracy \n",
    " than using bigram model, so I commented the bigram model\n",
    "\"\"\"\n",
    "\n",
    "text = \"لعو الولدين كرظ القدم في الشارن\"\n",
    "\n",
    "# first we handle the merge of wow and el3atf\n",
    "words = bigram.handle_wow_el3atf_in_predict(text)\n",
    "for i in range(0, len(words)):\n",
    "    potenial_words = []\n",
    "    if not trie.spell_check(words[i]):\n",
    "        potenial_words = trie.get_nearest_words(words[i], 1)\n",
    "        \n",
    "        potenial_words = [potenial_words[j][0] for j in range(len(potenial_words))]\n",
    "        \n",
    "\n",
    "        word = check_in_unigram(potenial_words)\n",
    "        \n",
    "        words[i] = word\n",
    "\n",
    "# text = go_through_text(\" \".join(words))\n",
    "        \n",
    "\n",
    "text = \" \".join(words)\n",
    "print(text)\n",
    "\n"
   ]
  },
  {
   "cell_type": "code",
   "execution_count": null,
   "metadata": {},
   "outputs": [],
   "source": [
    "\"\"\"\n",
    "function to build the bigram model, unicram model and trie\n",
    "in case they are not already built or needed some modifications\n",
    "\"\"\"\n",
    "# model_builder()"
   ]
  }
 ],
 "metadata": {
  "kernelspec": {
   "display_name": "image",
   "language": "python",
   "name": "python3"
  },
  "language_info": {
   "codemirror_mode": {
    "name": "ipython",
    "version": 3
   },
   "file_extension": ".py",
   "mimetype": "text/x-python",
   "name": "python",
   "nbconvert_exporter": "python",
   "pygments_lexer": "ipython3",
   "version": "3.11.5"
  }
 },
 "nbformat": 4,
 "nbformat_minor": 2
}
